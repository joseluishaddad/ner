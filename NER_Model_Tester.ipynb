{
  "nbformat": 4,
  "nbformat_minor": 0,
  "metadata": {
    "colab": {
      "name": "NER Model Tester",
      "provenance": [],
      "collapsed_sections": [],
      "mount_file_id": "1lH0rnJKXgiFXLHC786x4Lgk7zfJ2dpe0",
      "authorship_tag": "ABX9TyP1YL6t4sHYWyOAj7dgTRqD",
      "include_colab_link": true
    },
    "kernelspec": {
      "name": "python3",
      "display_name": "Python 3"
    }
  },
  "cells": [
    {
      "cell_type": "markdown",
      "metadata": {
        "id": "view-in-github",
        "colab_type": "text"
      },
      "source": [
        "<a href=\"https://colab.research.google.com/github/joseluishaddad/ner/blob/master/NER_Model_Tester.ipynb\" target=\"_parent\"><img src=\"https://colab.research.google.com/assets/colab-badge.svg\" alt=\"Open In Colab\"/></a>"
      ]
    },
    {
      "cell_type": "markdown",
      "metadata": {
        "id": "-xON9DdKvvm5",
        "colab_type": "text"
      },
      "source": [
        "# Testing File for NER Models"
      ]
    },
    {
      "cell_type": "markdown",
      "metadata": {
        "id": "PBQukbeY1CJ-",
        "colab_type": "text"
      },
      "source": [
        "First `import` both spacy and displacy as they will be used for testing the model and displaying the results"
      ]
    },
    {
      "cell_type": "code",
      "metadata": {
        "id": "omB9ZwUNvudE",
        "colab_type": "code",
        "colab": {}
      },
      "source": [
        "import spacy\n",
        "from spacy import displacy"
      ],
      "execution_count": 0,
      "outputs": []
    },
    {
      "cell_type": "markdown",
      "metadata": {
        "id": "Br-OskyDv-yF",
        "colab_type": "text"
      },
      "source": [
        "In the next lines, you can write down both the model and the text that you want to use to test it.\n",
        "\n",
        "By the moment i'm creating this notebook, `daphne_entities_10` seems to be the best model trained so far, so i recommend to use that one."
      ]
    },
    {
      "cell_type": "code",
      "metadata": {
        "id": "-a_CSiETv9wS",
        "colab_type": "code",
        "colab": {}
      },
      "source": [
        "MODEL = \"drive/My Drive/TAMU/models/daphne_entities_10\"\n",
        "TEXT = \"which missions from NASA can measure 2.2.1 surface deformation between 1983 and 1999\""
      ],
      "execution_count": 0,
      "outputs": []
    },
    {
      "cell_type": "markdown",
      "metadata": {
        "id": "nKcwqur11ZSm",
        "colab_type": "text"
      },
      "source": [
        "After that, we will open the model, and create a document that will then be given to the model to be interpreted."
      ]
    },
    {
      "cell_type": "code",
      "metadata": {
        "id": "85-pYYHIwR6E",
        "colab_type": "code",
        "colab": {
          "base_uri": "https://localhost:8080/",
          "height": 173
        },
        "outputId": "95197726-8edd-41ad-9ac6-6c00c12e462c"
      },
      "source": [
        "nlp = spacy.load(MODEL)\n",
        "doc = nlp(TEXT)\n",
        "\n",
        "# Analyze syntax\n",
        "#print(\"Noun phrases:\", [chunk.text for chunk in doc.noun_chunks])\n",
        "#print(\"Verbs:\", [token.lemma_ for token in doc if token.pos_ == \"VERB\"])\n",
        "\n",
        "\n",
        "# Find named entities, phrases and concepts\n",
        "for index, entity in enumerate(doc.ents):\n",
        "    print(\"{}: '{}' corresponds to {}\".format(index + 1, entity.text, entity.label_))\n",
        "print(\"\\n\\nText with marks:\")\n",
        "colors = { \n",
        "    \"INSTRUMENT\": \"lightcoral\", \n",
        "    \"ORBIT\": \"lightblue\", \n",
        "    \"DESIGN_ID\": \"green\", \n",
        "    \"INSTRUMENT_PARAMETER\": \"lightgreen\", \n",
        "    \"MEASUREMENT\": \"pink\", \n",
        "    \"MISSION\": \"yellow\", \n",
        "    \"OBJECTIVE\": \"orange\", \n",
        "    \"ORBIT\": \"red\", \n",
        "    \"SPACE_AGENCY\": \"lightskyblue\", \n",
        "    \"STAKEHOLDER\": \"cyan\", \n",
        "    \"SUBOBJECTIVE\": \"violet\", \n",
        "    \"TECHNOLOGY\": \"grey\", \n",
        "    \"NOT_PARTIAL_FULL\": \"lightgrey\", \n",
        "    \"NUMBER\": \"turquoise\", \n",
        "    \"YEAR\": \"lightsalmon\", \n",
        "    \"AGENT\": \"olive\"}\n",
        "options = {\"ents\": [\"INSTRUMENT\", \"ORBIT\", \"DESIGN_ID\", \"INSTRUMENT_PARAMETER\", \"MEASUREMENT\", \"MISSION\", \"OBJECTIVE\", \"ORBIT\", \"SPACE_AGENCY\", \"STAKEHOLDER\", \"SUBOBJECTIVE\", \"TECHNOLOGY\", \"NOT_PARTIAL_FULL\", \"NUMBER\", \"YEAR\", \"AGENT\"], \"colors\": colors}\n",
        "displacy.render(doc, 'ent', jupyter=True, options=options)\n"
      ],
      "execution_count": 36,
      "outputs": [
        {
          "output_type": "stream",
          "text": [
            "1: 'NASA' corresponds to SPACE_AGENCY\n",
            "2: '2.2.1 surface deformation' corresponds to MEASUREMENT\n",
            "3: '1983' corresponds to YEAR\n",
            "4: '1999' corresponds to YEAR\n",
            "\n",
            "\n",
            "Text with marks:\n"
          ],
          "name": "stdout"
        },
        {
          "output_type": "display_data",
          "data": {
            "text/html": [
              "<div class=\"entities\" style=\"line-height: 2.5; direction: ltr\">which missions from \n",
              "<mark class=\"entity\" style=\"background: lightskyblue; padding: 0.45em 0.6em; margin: 0 0.25em; line-height: 1; border-radius: 0.35em; box-decoration-break: clone; -webkit-box-decoration-break: clone\">\n",
              "    NASA\n",
              "    <span style=\"font-size: 0.8em; font-weight: bold; line-height: 1; border-radius: 0.35em; text-transform: uppercase; vertical-align: middle; margin-left: 0.5rem\">SPACE_AGENCY</span>\n",
              "</mark>\n",
              " can measure \n",
              "<mark class=\"entity\" style=\"background: pink; padding: 0.45em 0.6em; margin: 0 0.25em; line-height: 1; border-radius: 0.35em; box-decoration-break: clone; -webkit-box-decoration-break: clone\">\n",
              "    2.2.1 surface deformation\n",
              "    <span style=\"font-size: 0.8em; font-weight: bold; line-height: 1; border-radius: 0.35em; text-transform: uppercase; vertical-align: middle; margin-left: 0.5rem\">MEASUREMENT</span>\n",
              "</mark>\n",
              " between \n",
              "<mark class=\"entity\" style=\"background: lightsalmon; padding: 0.45em 0.6em; margin: 0 0.25em; line-height: 1; border-radius: 0.35em; box-decoration-break: clone; -webkit-box-decoration-break: clone\">\n",
              "    1983\n",
              "    <span style=\"font-size: 0.8em; font-weight: bold; line-height: 1; border-radius: 0.35em; text-transform: uppercase; vertical-align: middle; margin-left: 0.5rem\">YEAR</span>\n",
              "</mark>\n",
              " and \n",
              "<mark class=\"entity\" style=\"background: lightsalmon; padding: 0.45em 0.6em; margin: 0 0.25em; line-height: 1; border-radius: 0.35em; box-decoration-break: clone; -webkit-box-decoration-break: clone\">\n",
              "    1999\n",
              "    <span style=\"font-size: 0.8em; font-weight: bold; line-height: 1; border-radius: 0.35em; text-transform: uppercase; vertical-align: middle; margin-left: 0.5rem\">YEAR</span>\n",
              "</mark>\n",
              "</div>"
            ],
            "text/plain": [
              "<IPython.core.display.HTML object>"
            ]
          },
          "metadata": {
            "tags": []
          }
        }
      ]
    },
    {
      "cell_type": "markdown",
      "metadata": {
        "id": "-cR-vOSa6wFx",
        "colab_type": "text"
      },
      "source": [
        "As the model learns how to recognize entities based on context, you can also try different variations of the previous sentence to check that it still works.\n",
        "\n",
        "For example, you could try:\n",
        "_\"which missiosn from ACME can measure surface deform between 2010 and 2020\"_\n",
        "\n",
        "and it should still work. (Typo was on purpose!)"
      ]
    },
    {
      "cell_type": "code",
      "metadata": {
        "id": "amWpdeqG7JJN",
        "colab_type": "code",
        "colab": {
          "base_uri": "https://localhost:8080/",
          "height": 173
        },
        "outputId": "f38a9c82-171c-4dbe-f701-cdfbb48d6c25"
      },
      "source": [
        "TEXT = \"which missiosn from ACME can measure surface deform between 2010 and 2020\"\n",
        "nlp = spacy.load(MODEL)\n",
        "doc = nlp(TEXT)\n",
        "\n",
        "# Analyze syntax\n",
        "#print(\"Noun phrases:\", [chunk.text for chunk in doc.noun_chunks])\n",
        "#print(\"Verbs:\", [token.lemma_ for token in doc if token.pos_ == \"VERB\"])\n",
        "\n",
        "\n",
        "# Find named entities, phrases and concepts\n",
        "for index, entity in enumerate(doc.ents):\n",
        "    print(\"{}: '{}' corresponds to {}\".format(index + 1, entity.text, entity.label_))\n",
        "print(\"\\n\\nText with marks:\")\n",
        "colors = { \n",
        "    \"INSTRUMENT\": \"lightcoral\", \n",
        "    \"ORBIT\": \"lightblue\", \n",
        "    \"DESIGN_ID\": \"green\", \n",
        "    \"INSTRUMENT_PARAMETER\": \"lightgreen\", \n",
        "    \"MEASUREMENT\": \"pink\", \n",
        "    \"MISSION\": \"yellow\", \n",
        "    \"OBJECTIVE\": \"orange\", \n",
        "    \"ORBIT\": \"red\", \n",
        "    \"SPACE_AGENCY\": \"lightskyblue\", \n",
        "    \"STAKEHOLDER\": \"cyan\", \n",
        "    \"SUBOBJECTIVE\": \"violet\", \n",
        "    \"TECHNOLOGY\": \"grey\", \n",
        "    \"NOT_PARTIAL_FULL\": \"lightgrey\", \n",
        "    \"NUMBER\": \"turquoise\", \n",
        "    \"YEAR\": \"lightsalmon\", \n",
        "    \"AGENT\": \"olive\"}\n",
        "options = {\"ents\": [\"INSTRUMENT\", \"ORBIT\", \"DESIGN_ID\", \"INSTRUMENT_PARAMETER\", \"MEASUREMENT\", \"MISSION\", \"OBJECTIVE\", \"ORBIT\", \"SPACE_AGENCY\", \"STAKEHOLDER\", \"SUBOBJECTIVE\", \"TECHNOLOGY\", \"NOT_PARTIAL_FULL\", \"NUMBER\", \"YEAR\", \"AGENT\"], \"colors\": colors}\n",
        "displacy.render(doc, 'ent', jupyter=True, options=options)"
      ],
      "execution_count": 38,
      "outputs": [
        {
          "output_type": "stream",
          "text": [
            "1: 'ACME' corresponds to SPACE_AGENCY\n",
            "2: 'surface deform' corresponds to MEASUREMENT\n",
            "3: '2010' corresponds to YEAR\n",
            "4: '2020' corresponds to YEAR\n",
            "\n",
            "\n",
            "Text with marks:\n"
          ],
          "name": "stdout"
        },
        {
          "output_type": "display_data",
          "data": {
            "text/html": [
              "<div class=\"entities\" style=\"line-height: 2.5; direction: ltr\">which missiosn from \n",
              "<mark class=\"entity\" style=\"background: lightskyblue; padding: 0.45em 0.6em; margin: 0 0.25em; line-height: 1; border-radius: 0.35em; box-decoration-break: clone; -webkit-box-decoration-break: clone\">\n",
              "    ACME\n",
              "    <span style=\"font-size: 0.8em; font-weight: bold; line-height: 1; border-radius: 0.35em; text-transform: uppercase; vertical-align: middle; margin-left: 0.5rem\">SPACE_AGENCY</span>\n",
              "</mark>\n",
              " can measure \n",
              "<mark class=\"entity\" style=\"background: pink; padding: 0.45em 0.6em; margin: 0 0.25em; line-height: 1; border-radius: 0.35em; box-decoration-break: clone; -webkit-box-decoration-break: clone\">\n",
              "    surface deform\n",
              "    <span style=\"font-size: 0.8em; font-weight: bold; line-height: 1; border-radius: 0.35em; text-transform: uppercase; vertical-align: middle; margin-left: 0.5rem\">MEASUREMENT</span>\n",
              "</mark>\n",
              " between \n",
              "<mark class=\"entity\" style=\"background: lightsalmon; padding: 0.45em 0.6em; margin: 0 0.25em; line-height: 1; border-radius: 0.35em; box-decoration-break: clone; -webkit-box-decoration-break: clone\">\n",
              "    2010\n",
              "    <span style=\"font-size: 0.8em; font-weight: bold; line-height: 1; border-radius: 0.35em; text-transform: uppercase; vertical-align: middle; margin-left: 0.5rem\">YEAR</span>\n",
              "</mark>\n",
              " and \n",
              "<mark class=\"entity\" style=\"background: lightsalmon; padding: 0.45em 0.6em; margin: 0 0.25em; line-height: 1; border-radius: 0.35em; box-decoration-break: clone; -webkit-box-decoration-break: clone\">\n",
              "    2020\n",
              "    <span style=\"font-size: 0.8em; font-weight: bold; line-height: 1; border-radius: 0.35em; text-transform: uppercase; vertical-align: middle; margin-left: 0.5rem\">YEAR</span>\n",
              "</mark>\n",
              "</div>"
            ],
            "text/plain": [
              "<IPython.core.display.HTML object>"
            ]
          },
          "metadata": {
            "tags": []
          }
        }
      ]
    }
  ]
}