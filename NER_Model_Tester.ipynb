{
  "nbformat": 4,
  "nbformat_minor": 0,
  "metadata": {
    "colab": {
      "name": "NER Model Tester",
      "provenance": [],
      "collapsed_sections": [],
      "mount_file_id": "1lH0rnJKXgiFXLHC786x4Lgk7zfJ2dpe0",
      "authorship_tag": "ABX9TyNieiC3eqtxjrNq97JiOHqR",
      "include_colab_link": true
    },
    "kernelspec": {
      "name": "python3",
      "display_name": "Python 3"
    }
  },
  "cells": [
    {
      "cell_type": "markdown",
      "metadata": {
        "id": "view-in-github",
        "colab_type": "text"
      },
      "source": [
        "<a href=\"https://colab.research.google.com/github/joseluishaddad/ner/blob/master/NER_Model_Tester.ipynb\" target=\"_parent\"><img src=\"https://colab.research.google.com/assets/colab-badge.svg\" alt=\"Open In Colab\"/></a>"
      ]
    },
    {
      "cell_type": "markdown",
      "metadata": {
        "id": "-xON9DdKvvm5",
        "colab_type": "text"
      },
      "source": [
        "# Testing File for NER Models"
      ]
    },
    {
      "cell_type": "markdown",
      "metadata": {
        "id": "PBQukbeY1CJ-",
        "colab_type": "text"
      },
      "source": [
        "First `import` both spacy and displacy as they will be used for testing the model and displaying the results"
      ]
    },
    {
      "cell_type": "code",
      "metadata": {
        "id": "omB9ZwUNvudE",
        "colab_type": "code",
        "colab": {}
      },
      "source": [
        "import spacy\n",
        "from spacy import displacy"
      ],
      "execution_count": 0,
      "outputs": []
    },
    {
      "cell_type": "markdown",
      "metadata": {
        "id": "Br-OskyDv-yF",
        "colab_type": "text"
      },
      "source": [
        "In the next lines, you can write down both the model and the text that you want to use to test it.\n",
        "\n",
        "By the moment i'm creating this notebook, `daphne_entities_10` seems to be the best model trained so far, so i recommend to use that one."
      ]
    },
    {
      "cell_type": "code",
      "metadata": {
        "id": "-a_CSiETv9wS",
        "colab_type": "code",
        "colab": {}
      },
      "source": [
        "MODEL = \"drive/My Drive/TAMU/models/daphne_entities_10\"\n",
        "TEXT = \"which design has 8 orbits\""
      ],
      "execution_count": 0,
      "outputs": []
    },
    {
      "cell_type": "markdown",
      "metadata": {
        "id": "nKcwqur11ZSm",
        "colab_type": "text"
      },
      "source": [
        "After that, we will open the model, and create a document that will then be given to the model to be interpreted."
      ]
    },
    {
      "cell_type": "code",
      "metadata": {
        "id": "85-pYYHIwR6E",
        "colab_type": "code",
        "colab": {
          "base_uri": "https://localhost:8080/",
          "height": 121
        },
        "outputId": "f71e14d1-7b4e-46c0-c4a3-33e9794211ea"
      },
      "source": [
        "nlp = spacy.load(MODEL)\n",
        "doc = nlp(TEXT)\n",
        "\n",
        "# Analyze syntax\n",
        "#print(\"Noun phrases:\", [chunk.text for chunk in doc.noun_chunks])\n",
        "#print(\"Verbs:\", [token.lemma_ for token in doc if token.pos_ == \"VERB\"])\n",
        "\n",
        "\n",
        "# Find named entities, phrases and concepts\n",
        "for index, entity in enumerate(doc.ents):\n",
        "    print(\"{}: '{}' corresponds to {}\".format(index + 1, entity.text, entity.label_))\n",
        "print(\"\\n\\nText with marks:\")\n",
        "colors = {\n",
        "    \"INSTRUMENT\": \"blue\", \n",
        "    \"ORBIT\": \"lightblue\", \n",
        "    \"DESIGN_ID\": \"green\", \n",
        "    \"INSTRUMENT_PARAMETER\": \"lightgreen\", \n",
        "    \"MEASUREMENT\": \"pink\", \n",
        "    \"MISSION\": \"yellow\", \n",
        "    \"OBJECTIVE\": \"orange\", \n",
        "    \"ORBIT\": \"red\", \n",
        "    \"SPACE_AGENCY\": \"purple\", \n",
        "    \"STAKEHOLDER\": \"cyan\", \n",
        "    \"SUBOBJECTIVE\": \"violet\", \n",
        "    \"TECHNOLOGY\": \"grey\", \n",
        "    \"NOT_PARTIAL_FULL\": \"lightgrey\", \n",
        "    \"NUMBER\": \"turquoise\", \n",
        "    \"YEAR\": \"linear-gradient(90deg, cyan, black)\", \n",
        "    \"AGENT\": \"linear-gradient(90deg, white, black)\"}\n",
        "options = {\"ents\": [\"INSTRUMENT\", \"ORBIT\", \"DESIGN_ID\", \"INSTRUMENT_PARAMETER\", \"MEASUREMENT\", \"MISSION\", \"OBJECTIVE\", \"ORBIT\", \"SPACE_AGENCY\", \"STAKEHOLDER\", \"SUBOBJECTIVE\", \"TECHNOLOGY\", \"NOT_PARTIAL_FULL\", \"NUMBER\", \"YEAR\", \"AGENT\"], \"colors\": colors}\n",
        "displacy.render(doc, 'ent', jupyter=True, options=options)\n"
      ],
      "execution_count": 28,
      "outputs": [
        {
          "output_type": "stream",
          "text": [
            "1: '8' corresponds to NUMBER\n",
            "\n",
            "\n",
            "Text with marks:\n"
          ],
          "name": "stdout"
        },
        {
          "output_type": "display_data",
          "data": {
            "text/html": [
              "<div class=\"entities\" style=\"line-height: 2.5; direction: ltr\">which design has \n",
              "<mark class=\"entity\" style=\"background: turquoise; padding: 0.45em 0.6em; margin: 0 0.25em; line-height: 1; border-radius: 0.35em; box-decoration-break: clone; -webkit-box-decoration-break: clone\">\n",
              "    8\n",
              "    <span style=\"font-size: 0.8em; font-weight: bold; line-height: 1; border-radius: 0.35em; text-transform: uppercase; vertical-align: middle; margin-left: 0.5rem\">NUMBER</span>\n",
              "</mark>\n",
              " orbits</div>"
            ],
            "text/plain": [
              "<IPython.core.display.HTML object>"
            ]
          },
          "metadata": {
            "tags": []
          }
        }
      ]
    },
    {
      "cell_type": "code",
      "metadata": {
        "id": "YBYGBEMs2Vwv",
        "colab_type": "code",
        "colab": {}
      },
      "source": [
        ""
      ],
      "execution_count": 0,
      "outputs": []
    }
  ]
}